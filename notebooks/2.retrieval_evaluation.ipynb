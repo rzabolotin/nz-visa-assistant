{
 "cells": [
  {
   "cell_type": "markdown",
   "id": "fb8290ed-5623-44bf-8f6f-d64a0ef9cf1e",
   "metadata": {},
   "source": [
    "# Retrieaval evaluation\n",
    "In this notebook we evaluate different retrieval methods.\n",
    "For perform it we need:\n",
    "* create ground truth dataset, genereate question for our answers\n",
    "* get search_results for our questions\n",
    "* measure performanse of search methods\n",
    "\n",
    "We will try:\n",
    "* minisearch.py\n",
    "* elasticsearch (text search)\n",
    "* elasticsearch (vector search)\n",
    "\n",
    "And separately evaluate search with chunking (split by 1000 symbols)"
   ]
  },
  {
   "cell_type": "code",
   "execution_count": null,
   "id": "2780f575-a04a-4898-bf2e-aab5e109983d",
   "metadata": {},
   "outputs": [],
   "source": [
    "To generate ground-truth dataset we need "
   ]
  }
 ],
 "metadata": {
  "kernelspec": {
   "display_name": "Python 3 (ipykernel)",
   "language": "python",
   "name": "python3"
  },
  "language_info": {
   "codemirror_mode": {
    "name": "ipython",
    "version": 3
   },
   "file_extension": ".py",
   "mimetype": "text/x-python",
   "name": "python",
   "nbconvert_exporter": "python",
   "pygments_lexer": "ipython3",
   "version": "3.12.5"
  }
 },
 "nbformat": 4,
 "nbformat_minor": 5
}
