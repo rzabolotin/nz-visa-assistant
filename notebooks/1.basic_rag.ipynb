{
 "cells": [
  {
   "cell_type": "markdown",
   "id": "a2da8e88-ff64-404b-a2cd-903952ab80dc",
   "metadata": {},
   "source": [
    "# Introduction\n",
    "In this notebook I implement assistant, that answers user question based on context, retrieved from search engine\n",
    "\n",
    "## Concept scheme"
   ]
  },
  {
   "cell_type": "code",
   "execution_count": 4,
   "id": "d28a8bb1-d667-463f-b0ec-26f1d0e3f7ef",
   "metadata": {},
   "outputs": [],
   "source": [
    "def llm(prompt) -> str:\n",
    "    return \"\"\n",
    "\n",
    "def search(query: str) -> str:\n",
    "    return \"\"\n",
    "\n",
    "def build_prompt(query: str, search_results: str) -> str:\n",
    "    return \"\"\n",
    "\n",
    "def rag(query: str) -> str:\n",
    "    search_results = search(query)\n",
    "    prompt = build_prompt(query, search_results)\n",
    "    answer = llm(prompt)\n",
    "    return answer"
   ]
  },
  {
   "cell_type": "markdown",
   "id": "1df04862-5199-4926-8a4c-874bc863ec66",
   "metadata": {},
   "source": [
    "## Read data, prepare utilites"
   ]
  },
  {
   "cell_type": "code",
   "execution_count": 24,
   "id": "8aaf86f0-2c18-42b9-bbd1-f6362f7b2f8a",
   "metadata": {},
   "outputs": [
    {
     "name": "stdout",
     "output_type": "stream",
     "text": [
      "--2024-09-08 06:26:58--  https://raw.githubusercontent.com/alexeygrigorev/minsearch/main/minsearch.py\n",
      "Resolving raw.githubusercontent.com (raw.githubusercontent.com)... 185.199.110.133, 185.199.108.133, 185.199.111.133, ...\n",
      "Connecting to raw.githubusercontent.com (raw.githubusercontent.com)|185.199.110.133|:443... connected.\n",
      "HTTP request sent, awaiting response... 200 OK\n",
      "Length: 3832 (3.7K) [text/plain]\n",
      "Saving to: ‘minsearch.py’\n",
      "\n",
      "minsearch.py        100%[===================>]   3.74K  --.-KB/s    in 0.02s   \n",
      "\n",
      "2024-09-08 06:26:59 (173 KB/s) - ‘minsearch.py’ saved [3832/3832]\n",
      "\n"
     ]
    }
   ],
   "source": [
    "!rm -f minsearch.py\n",
    "!wget https://raw.githubusercontent.com/alexeygrigorev/minsearch/main/minsearch.py"
   ]
  },
  {
   "cell_type": "code",
   "execution_count": 27,
   "id": "b9788acd-9470-4e68-bfa5-c13825bfc10b",
   "metadata": {},
   "outputs": [],
   "source": [
    "import elasticsearch\n",
    "from anthropic import Anthropic\n",
    "import json\n",
    "import minsearch"
   ]
  },
  {
   "cell_type": "code",
   "execution_count": 8,
   "id": "9a2f5eb9-2c0c-44f3-a946-83e922d9ad6f",
   "metadata": {},
   "outputs": [],
   "source": [
    "with open('../data/site_content.json', 'r') as f_in:\n",
    "    raw_doc = json.load(f_in)"
   ]
  },
  {
   "cell_type": "code",
   "execution_count": 28,
   "id": "ff32c03e-db15-4e59-ac20-5aefcf6d6158",
   "metadata": {},
   "outputs": [],
   "source": [
    "clientA = Anthropic()"
   ]
  },
  {
   "cell_type": "code",
   "execution_count": 30,
   "id": "031e1555-c759-473e-8537-3cc58be4c918",
   "metadata": {},
   "outputs": [
    {
     "name": "stdout",
     "output_type": "stream",
     "text": [
      "Here are the steps to get a visa to travel to New Zealand:\n",
      "\n",
      "1. Determine the type of visa you need:\n",
      "   - Visitor visa - for tourism, business, or visiting family/friends\n",
      "   - Work visa - if you have a job offer in New Zealand\n",
      "   - Student visa - if you'll be studying in New Zealand\n",
      "\n",
      "2. Check the specific requirements for the visa you need on the Immigration New Zealand website (https://www.immigration.govt.nz/new-zealand-visas). This will include things like:\n",
      "   - Application form\n",
      "   - Valid passport\n",
      "   - Supporting documents (proof of funds, return ticket, etc.)\n",
      "   - Application fee\n",
      "\n",
      "3. Gather all the required documents and information.\n",
      "\n",
      "4. Complete the online visa application form on the Immigration New Zealand website.\n",
      "\n",
      "5. Pay the application fee online.\n",
      "\n",
      "6. Submit any required supporting documents. This may be done online or by post, depending on the visa type.\n",
      "\n",
      "7. Wait for a decision on your visa application. Processing times can vary, so check the current processing times on the website.\n",
      "\n",
      "8. If approved, your visa will be electronically linked to your passport. You don't need a physical visa sticker.\n",
      "\n",
      "The specific requirements will depend on your nationality, the purpose of your trip, and the type of visa you're applying for. Be sure to review all the details carefully on the Immigration New Zealand website.\n"
     ]
    }
   ],
   "source": [
    "q = \"How to get vise to New Zealand\"\n",
    "response = clientA.messages.create(\n",
    "    model=\"claude-3-haiku-20240307\",\n",
    "    max_tokens = 500,\n",
    "    messages=[\n",
    "        {\n",
    "          \"role\": \"user\",\n",
    "          \"content\": [\n",
    "            {\n",
    "              \"type\": \"text\",\n",
    "              \"text\": q\n",
    "            }\n",
    "          ]\n",
    "        }\n",
    "  ]\n",
    ")\n",
    "print(response.content[0].text)"
   ]
  },
  {
   "cell_type": "code",
   "execution_count": 35,
   "id": "a9762b0b-ff94-4925-9540-07cadd861980",
   "metadata": {},
   "outputs": [],
   "source": [
    "data = [{'url': k, 'header':v['header'], 'main_content':v['main_content']} for k,v in raw_doc.items()]"
   ]
  },
  {
   "cell_type": "code",
   "execution_count": 36,
   "id": "4a4cc872-30ec-4abd-832b-352b36c36431",
   "metadata": {},
   "outputs": [],
   "source": [
    "index = minsearch.Index(\n",
    "    text_fields=[\"url\", \"header\", \"main_content\"],\n",
    "    keyword_fields=[]\n",
    ")"
   ]
  },
  {
   "cell_type": "code",
   "execution_count": 39,
   "id": "7e2d4eec-94b2-4f73-a0b7-006961c1649f",
   "metadata": {},
   "outputs": [
    {
     "data": {
      "text/plain": [
       "<minsearch.Index at 0x7f23f5269670>"
      ]
     },
     "execution_count": 39,
     "metadata": {},
     "output_type": "execute_result"
    }
   ],
   "source": [
    "index.fit(data)"
   ]
  },
  {
   "cell_type": "markdown",
   "id": "6e3e80f3-66b4-44d1-8dbd-cb4085f89362",
   "metadata": {},
   "source": [
    "# Basic implementation"
   ]
  },
  {
   "cell_type": "code",
   "execution_count": 40,
   "id": "dbf07968-4833-4346-aa96-87672e2172d3",
   "metadata": {},
   "outputs": [],
   "source": [
    "def search(query: str) -> str:\n",
    "\n",
    "    boost = {'header': 2.0, 'url': 5}\n",
    "    results = index.search(\n",
    "        query=query,\n",
    "        boost_dict=boost,\n",
    "        num_results=5\n",
    "    )\n",
    "\n",
    "    return results"
   ]
  },
  {
   "cell_type": "code",
   "execution_count": 41,
   "id": "0ab9109a-f44b-454c-b66b-7851be92b682",
   "metadata": {},
   "outputs": [],
   "source": [
    "q = \"How to get student's visa\""
   ]
  },
  {
   "cell_type": "code",
   "execution_count": 42,
   "id": "14e5e012-ec97-42f7-9b46-7276d10a3463",
   "metadata": {},
   "outputs": [
    {
     "data": {
      "text/plain": [
       "[{'url': 'https://www.immigration.govt.nz/new-zealand-visas/preparing-a-visa-application/the-application-process/how-to-get-a-temporary-visa-decision-reviewed-1',\n",
       "  'header': 'Home New Zealand visas Preparing a visa application The application process How to get a temporary visa decision reviewed How to get a temporary visa decision reviewed If we decline your application for a temporary visa to visit, work or study in New Zealand in some cases you can ask us to reconsider our decision. Cost NZD $250 Processing time 80% within 6 weeks',\n",
       "  'main_content': ''},\n",
       " {'url': 'https://www.immigration.govt.nz/new-zealand-visas/visas/visa/pathway-student-visa',\n",
       "  'header': \"Home New Zealand visas Pathway Student Visa Pathway Student Visa This visa allows you to study up to 3 courses, one after the other, on a single student visa. You must have a Pathway Student Visa offer of place and the funds to pay for your tuition fees. Length of stay Up to 5 years Cost From NZD $375 Processing time 80% within 7 weeks With this visa you can Study up to 3 courses, one after the other, on a single student visa. Work part-time up to 20 hours a week while studying and full-time in the holidays, depending on your course of study. Things to note You can't include\\xa0your partner or dependent children in a student visa application, but they can apply for their own visas based on their relationship to you. Pathway Student Visas are long enough to complete your qualification plan. You’ll need to meet the pre-requisites for any second and third courses on your study pathway to stay in New Zealand on a Pathway Student Visa.\",\n",
       "  'main_content': ''},\n",
       " {'url': 'https://www.immigration.govt.nz/about-us/policy-and-law/how-the-immigration-system-operates/visa-application-process/how-long-it-takes-to-process-your-visa-application',\n",
       "  'header': 'Home New Zealand visas Waiting for a visa How long it takes to process an application How long it takes to process an application Wait times for NZeTA, visitor, student, work and other visas.',\n",
       "  'main_content': 'Find out how long it takes us to process visa applications. You can find the wait times for visitor, work, student, resident and other visa types in this section. To find out how we are progressing against our performance goals, check out our performance reporting page. Performance reporting for Immigration New Zealand Note We are anticipating an increase in visa applications over the coming months which may result in it taking longer to process applications. Make sure all the necessary information and documents are included with your application. Incomplete applications may be declined. Visitor visa and NZeTA wait times Visitor visa and NZeTA wait times Find out how long it takes us to process visitor visas and NZeTAs. Work visa and employer accreditation wait times Work visa and employer accreditation wait times Find out how long it takes us to process work visas, employer accreditations and job checks. Resident visa wait times Resident visa wait times Find out how long it takes us to process resident visas. Visa processing times for international students Visa processing times for international students Find out how long it has taken us to process some student visa applications for international students. Results vary depending on the type of education provider.'},\n",
       " {'url': 'https://www.immigration.govt.nz/new-zealand-visas/preparing-a-visa-application/the-application-process/details-page/nonvisa/how-to-get-a-temporary-visa-decision-reviewed',\n",
       "  'header': 'Home New Zealand visas Preparing a visa application The application process How to get a temporary visa decision reviewed How to get a temporary visa decision reviewed If we decline your application for a temporary visa to visit, work or study in New Zealand in some cases you can ask us to reconsider our decision. Cost NZD $250 Processing time 80% within 6 weeks',\n",
       "  'main_content': ''},\n",
       " {'url': 'https://www.immigration.govt.nz/assist-migrants-and-students/assist-students/student-visa-info',\n",
       "  'header': 'Home Assist migrants and students Assist students Student visa information Student visa information There are many different visas that a student could study on. Some allow longer study durations than others.',\n",
       "  'main_content': \"Student visa information sheet We have created information sheets for international students to use when preparing their student visa application. Applicants should use the appropriate information sheet to make sure they provide the right documents and evidence to support their student visa application. Student visa application information sheet – first-time international students PDF 527KB Student visa application information sheet – continuing international students PDF 461KB Student visas You can check our student visa pages to find detailed information about a particular visa, including the criteria that applicants need to meet and the conditions that apply to that visa. How to find student visas You can find a visa directly from the ‘Search for a visa by name’ search field found in the footer on each page. Simply start to type a visa name or key word such as 'student' and after 4 letters a list of visas that match your search will appear. You can then select the visa you would like to view. All student visas You can also find all visas that allow you to study by using our list of visas that allow you study in New Zealand. Visas that allow you to study in New Zealand Filters to customise information The information shown in each visa page can be customised to show country-specific information and tips.\"}]"
      ]
     },
     "execution_count": 42,
     "metadata": {},
     "output_type": "execute_result"
    }
   ],
   "source": [
    "search(q)"
   ]
  },
  {
   "cell_type": "code",
   "execution_count": 48,
   "id": "32c538d8-def6-431e-a239-6f999d8de2a0",
   "metadata": {},
   "outputs": [],
   "source": [
    "def build_prompt(query, search_results):\n",
    "    prompt_template = \"\"\"\n",
    "You are an AI assistant specializing in answering questions about New Zealand visas. Your knowledge comes from official New Zealand immigration information. You will be provided with context from relevant articles and a specific question to answer.\n",
    "\n",
    "First, review the following context:\n",
    "\n",
    "<context>\n",
    "{{CONTEXT}}\n",
    "</context>\n",
    "\n",
    "Process this context carefully. Each item in the context contains a URL, a header, and main content. Use this information to inform your answers, ensuring you provide accurate and up-to-date information about New Zealand visas.\n",
    "\n",
    "Now, answer the following question:\n",
    "\n",
    "<question>\n",
    "{{QUESTION}}\n",
    "</question>\n",
    "\n",
    "To answer the question:\n",
    "1. Analyze the question and identify the key points related to New Zealand visas.\n",
    "2. Search through the provided context for relevant information.\n",
    "3. Formulate a clear, concise answer based on the official information.\n",
    "4. If the question cannot be fully answered with the given context, state this clearly and provide the most relevant information available.\n",
    "\n",
    "Write your answer using short markdown syntax, as it will be displayed in a Telegram chat. Use **bold** for emphasis and *italics* for titles or important terms.\n",
    "\n",
    "Always include at least one relevant URL from the context as a reference. Format the URL reference at the end of your answer like this:\n",
    "[Source](URL)\n",
    "\n",
    "If multiple sources are used, include them as separate reference links.\n",
    "\n",
    "Provide your answer within <answer> tags.\n",
    "\"\"\".strip()\n",
    "\n",
    "    context = \" \".join([json.dumps(x) for x in search_results])\n",
    "       \n",
    "    \n",
    "    prompt = prompt_template.format(QUESTION=query, CONTEXT=context).strip()\n",
    "    return prompt\n",
    "\n",
    "def llm(prompt):\n",
    "    response = clientA.messages.create(\n",
    "        model=\"claude-3-5-sonnet-20240620\",\n",
    "        max_tokens = 500,\n",
    "        messages=[\n",
    "            {\n",
    "              \"role\": \"user\",\n",
    "              \"content\": [\n",
    "                {\n",
    "                  \"type\": \"text\",\n",
    "                  \"text\": prompt\n",
    "                }\n",
    "              ]\n",
    "            }\n",
    "      ]\n",
    "    )\n",
    "    return response.content[0].text\n",
    "    "
   ]
  },
  {
   "cell_type": "code",
   "execution_count": 49,
   "id": "8ebe6651-e0dc-49ab-8b71-c4940e7813cc",
   "metadata": {},
   "outputs": [
    {
     "data": {
      "text/plain": [
       "\"Certainly! I'll analyze the question, review the provided context, and formulate an answer based on the official New Zealand visa information. I'll follow the guidelines you've outlined for formatting and sourcing.\\n\\n<answer>\\n\\n**New Zealand Working Holiday Visa Requirements:**\\n\\nTo be eligible for a New Zealand Working Holiday Visa, you must:\\n\\n1. Be aged 18-30 (or 18-35 for some countries)\\n2. Have a valid passport\\n3. Meet health and character requirements\\n4. Have sufficient funds for your stay (typically NZD $4,200)\\n5. Have a return ticket or enough money to buy one\\n\\n*Key points to note:*\\n\\n- The visa allows you to work and travel in New Zealand for up to 12 months (or 23 months for UK citizens)\\n- You must not bring children with you\\n- You can study for up to 6 months\\n- The application is done online through the Immigration NZ website\\n\\nIt's important to check the specific requirements for your country, as they may vary slightly.\\n\\n[Source](https://www.immigration.govt.nz/new-zealand-visas/apply-for-a-visa/about-visa/united-kingdom-working-holiday-visa)\\n\\n</answer>\""
      ]
     },
     "execution_count": 49,
     "metadata": {},
     "output_type": "execute_result"
    }
   ],
   "source": [
    "rag(q)"
   ]
  },
  {
   "cell_type": "code",
   "execution_count": null,
   "id": "c4239a8e-4cbc-4c13-82d1-e085682754d5",
   "metadata": {},
   "outputs": [],
   "source": []
  }
 ],
 "metadata": {
  "kernelspec": {
   "display_name": "Python 3 (ipykernel)",
   "language": "python",
   "name": "python3"
  },
  "language_info": {
   "codemirror_mode": {
    "name": "ipython",
    "version": 3
   },
   "file_extension": ".py",
   "mimetype": "text/x-python",
   "name": "python",
   "nbconvert_exporter": "python",
   "pygments_lexer": "ipython3",
   "version": "3.12.5"
  }
 },
 "nbformat": 4,
 "nbformat_minor": 5
}
